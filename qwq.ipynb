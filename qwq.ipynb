{
 "cells": [
  {
   "cell_type": "markdown",
   "metadata": {},
   "source": [
    "# qwq我是一级标题\n",
    "### 三级标题\n",
    "\n",
    "***\n",
    "### 表格\n",
    "| 表头  | 表头  | 表头  |\n",
    "| :-: | :-:| :-: |\n",
    "| 文本  | 文本  | 文本  |\n",
    "| 文本  | 文本  | 文本  |\n",
    "| 文本  | 文本  | 文本  |\n",
    "\n",
    "##### :-左对齐 -:右对齐 :-:居中对齐\n",
    "***\n",
    "\n",
    "### 代码\n",
    "```C\n",
    "#include<stdio.h>\n",
    "int main()\n",
    "{\n",
    "printf(\"恭喜发财！！！\\n\");\n",
    "return 0;\n",
    "}   \n",
    "```\n",
    "\n",
    "### 数学公式\n",
    "$x^2+y^2=2$\n",
    "\n",
    "$$\n",
    "\n",
    "\\begin{cases}\n",
    "x=\\rho\\cos\\theta \\\\\n",
    "y=\\rho\\sin\\theta \\\\\n",
    "\\end{cases}\n",
    "\n",
    "$$\n",
    "### 图片\n",
    "![picture](https://img-blog.csdnimg.cn/img_convert/4d81fd3072bce6bda2fc5afd8335a4a1.gif)\n",
    "\n",
    "![picture](2.png)"
   ]
  },
  {
   "cell_type": "code",
   "execution_count": null,
   "metadata": {},
   "outputs": [],
   "source": []
  }
 ],
 "metadata": {
  "language_info": {
   "name": "python"
  },
  "orig_nbformat": 4
 },
 "nbformat": 4,
 "nbformat_minor": 2
}
